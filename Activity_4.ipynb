{
  "nbformat": 4,
  "nbformat_minor": 0,
  "metadata": {
    "colab": {
      "provenance": [],
      "authorship_tag": "ABX9TyN7NiKW/KT3ja/8QQtxMt7p",
      "include_colab_link": true
    },
    "kernelspec": {
      "name": "python3",
      "display_name": "Python 3"
    },
    "language_info": {
      "name": "python"
    }
  },
  "cells": [
    {
      "cell_type": "markdown",
      "metadata": {
        "id": "view-in-github",
        "colab_type": "text"
      },
      "source": [
        "<a href=\"https://colab.research.google.com/github/notseantan/DSAA-58010/blob/main/Activity_4.ipynb\" target=\"_parent\"><img src=\"https://colab.research.google.com/assets/colab-badge.svg\" alt=\"Open In Colab\"/></a>"
      ]
    },
    {
      "cell_type": "code",
      "execution_count": null,
      "metadata": {
        "colab": {
          "base_uri": "https://localhost:8080/"
        },
        "outputId": "87789b74-74e0-44e8-c2e1-08bd80b06ff8",
        "id": "96o0iCW8RV8w"
      },
      "outputs": [
        {
          "output_type": "stream",
          "name": "stdout",
          "text": [
            "[2, 4, 6, 8, 10, 12, 14, 16, 18, 20, 22, 24, 26, 28, 30, 32, 34, 36, 38, 40, 42, 44, 46, 48, 50]\n",
            "\n",
            " []\n"
          ]
        }
      ],
      "source": [
        "queue=list(range(1,51))\n",
        "even_num = [num for num in queue if num % 2 == 0]\n",
        "print(even_num)\n",
        "queue.clear()\n",
        "print(\"\\n\",queue)"
      ]
    },
    {
      "cell_type": "code",
      "execution_count": 54,
      "metadata": {
        "colab": {
          "base_uri": "https://localhost:8080/"
        },
        "outputId": "fd2ae9c9-39d0-4603-90b5-06b022ee23aa",
        "id": "XVzWn6g9V6uh"
      },
      "outputs": [
        {
          "output_type": "stream",
          "name": "stdout",
          "text": [
            "[2, 4, 6, 8, 10, 12, 14, 16, 18, 20, 22, 24, 26, 28, 30, 32, 34, 36, 38, 40, 42, 44, 46, 48, 50]\n",
            "Then, dequeue:\n",
            "[]\n"
          ]
        }
      ],
      "source": [
        "queue=list(range(1,51))\n",
        "even_num = [num for num in queue if num % 2 == 0]\n",
        "print(even_num)\n",
        "print(\"Then, dequeue:\")\n",
        "even_num.pop(0)\n",
        "even_num.pop(0)\n",
        "even_num.pop(0)\n",
        "even_num.pop(0)\n",
        "even_num.pop(0)\n",
        "even_num.pop(0)\n",
        "even_num.pop(0)\n",
        "even_num.pop(0)\n",
        "even_num.pop(0)\n",
        "even_num.pop(0)\n",
        "even_num.pop(0)\n",
        "even_num.pop(0)\n",
        "even_num.pop(0)\n",
        "even_num.pop(0)\n",
        "even_num.pop(0)\n",
        "even_num.pop(0)\n",
        "even_num.pop(0)\n",
        "even_num.pop(0)\n",
        "even_num.pop(0)\n",
        "even_num.pop(0)\n",
        "even_num.pop(0)\n",
        "even_num.pop(0)\n",
        "even_num.pop(0)\n",
        "even_num.pop(0)\n",
        "even_num.pop(0)\n",
        "print(even_num)"
      ]
    }
  ]
}