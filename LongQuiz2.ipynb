{
  "nbformat": 4,
  "nbformat_minor": 0,
  "metadata": {
    "colab": {
      "provenance": [],
      "authorship_tag": "ABX9TyONJYjYiDJLo/lVuelpTKMf",
      "include_colab_link": true
    },
    "kernelspec": {
      "name": "python3",
      "display_name": "Python 3"
    },
    "language_info": {
      "name": "python"
    }
  },
  "cells": [
    {
      "cell_type": "markdown",
      "metadata": {
        "id": "view-in-github",
        "colab_type": "text"
      },
      "source": [
        "<a href=\"https://colab.research.google.com/github/notseantan/DSAA-58010/blob/main/LongQuiz2.ipynb\" target=\"_parent\"><img src=\"https://colab.research.google.com/assets/colab-badge.svg\" alt=\"Open In Colab\"/></a>"
      ]
    },
    {
      "cell_type": "code",
      "source": [
        "class graph:\n",
        "  def __init__(self,gdict=None):\n",
        "   if gdict is None:\n",
        "    gdict = {}\n",
        "   self.gdict = gdict\n",
        "\n",
        "  def edges(self):\n",
        "   return self.findedges()\n",
        "  def findedges(self):\n",
        "    edgename = []\n",
        "    for vrtx in self.gdict:\n",
        "      for nxtvrtx in self.gdict[vrtx]:\n",
        "        if {nxtvrtx, vrtx} not in edgename:\n",
        "         edgename.append({vrtx, nxtvrtx})\n",
        "    return edgename\n",
        "graph_elements = {\n",
        "          \"h\" : [\"i\", \"j\"],\n",
        "          \"i\" : [\"e\", \"f\", \"h\"],\n",
        "          \"j\" : [\"e\", \"f\", \"h\"],\n",
        "          \"e\" : [\"i\", \"j\", \"k\", \"m\"],\n",
        "          \"k\" : [\"e\", \"f\", \"h\"],\n",
        "          \"f\" : [\"j\",\"i\",\"k\",\"p\"],\n",
        "          \"m\" : [\"e\"],\n",
        "          \"p\" : [\"f\"]\n",
        "      }\n",
        "g = graph(graph_elements)\n",
        "print(g.edges())"
      ],
      "metadata": {
        "colab": {
          "base_uri": "https://localhost:8080/"
        },
        "id": "w1NmtLS4oC4s",
        "outputId": "8d835e30-108c-42b3-9163-0f114ba31504"
      },
      "execution_count": 5,
      "outputs": [
        {
          "output_type": "stream",
          "name": "stdout",
          "text": [
            "[{'i', 'h'}, {'j', 'h'}, {'i', 'e'}, {'f', 'i'}, {'j', 'e'}, {'f', 'j'}, {'k', 'e'}, {'m', 'e'}, {'f', 'k'}, {'k', 'h'}, {'f', 'p'}]\n"
          ]
        }
      ]
    },
    {
      "cell_type": "code",
      "source": [
        "class graph:\n",
        "  def __init__(self,gdict=None):\n",
        "    if gdict is None:\n",
        "      gdict = []\n",
        "      self.gdict = gdict\n",
        "      def getVertices(self):\n",
        "        return list(self.gdict.keys())\n",
        "        graph_elements = {\n",
        "          \"h\" : [\"i\", \"j\"],\n",
        "          \"i\" : [\"e\", \"f\", \"h\"],\n",
        "          \"j\" : [\"e\", \"f\", \"h\"],\n",
        "          \"e\" : [\"i\", \"j\", \"k\", \"m\"],\n",
        "          \"k\" : [\"e\", \"f\", \"h\"],\n",
        "          \"f\" : [\"j\",\"i\",\"k\",\"p\"],\n",
        "          \"m\" : [\"e\"],\n",
        "          \"p\" : [\"f\"]\n",
        "            }\n",
        "    g = graph(graph_elements)\n",
        "    print(g.Vertices())"
      ],
      "metadata": {
        "id": "pmTvgmyUXtgW"
      },
      "execution_count": 10,
      "outputs": []
    }
  ]
}