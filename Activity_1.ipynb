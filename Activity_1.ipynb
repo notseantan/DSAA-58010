{
  "nbformat": 4,
  "nbformat_minor": 0,
  "metadata": {
    "colab": {
      "provenance": [],
      "authorship_tag": "ABX9TyMMXh0BC84uvifR6TmGXJ0l",
      "include_colab_link": true
    },
    "kernelspec": {
      "name": "python3",
      "display_name": "Python 3"
    },
    "language_info": {
      "name": "python"
    }
  },
  "cells": [
    {
      "cell_type": "markdown",
      "metadata": {
        "id": "view-in-github",
        "colab_type": "text"
      },
      "source": [
        "<a href=\"https://colab.research.google.com/github/notseantan/DSAA-58010/blob/main/Activity_1.ipynb\" target=\"_parent\"><img src=\"https://colab.research.google.com/assets/colab-badge.svg\" alt=\"Open In Colab\"/></a>"
      ]
    },
    {
      "cell_type": "markdown",
      "source": [
        "1.)"
      ],
      "metadata": {
        "id": "Adw_0l-539-Z"
      }
    },
    {
      "cell_type": "code",
      "execution_count": 47,
      "metadata": {
        "colab": {
          "base_uri": "https://localhost:8080/"
        },
        "id": "5A5-FgSC3ESO",
        "outputId": "d5a2853e-dbc2-4a2d-99c0-dd828125fcb4"
      },
      "outputs": [
        {
          "output_type": "stream",
          "name": "stdout",
          "text": [
            "2\n",
            "4\n",
            "6\n",
            "8\n",
            "10\n",
            "12\n",
            "14\n",
            "16\n",
            "18\n",
            "20\n",
            "Access through indexes:\n",
            "2 = 0\n",
            "4 = 1\n",
            "6 = 2\n",
            "Sum:\n",
            "110\n"
          ]
        }
      ],
      "source": [
        "numbers = array('i', [2,4,6,8,10,12,14,16,18,20])\n",
        "for i in numbers:\n",
        "    print(i)\n",
        "print(\"Access through indexes:\")\n",
        "print(numbers[0], \"= 0\")\n",
        "print(numbers[1], \"= 1\")\n",
        "print(numbers[2], \"= 2\")\n",
        "print(\"Sum:\")\n",
        "Sum = sum(numbers)\n",
        "print(Sum)"
      ]
    },
    {
      "cell_type": "markdown",
      "source": [
        "2.)"
      ],
      "metadata": {
        "id": "ICYd4Q7p4BCF"
      }
    },
    {
      "cell_type": "code",
      "source": [
        "numbers = [1, 2, 3, 4, 5, 6, 7, 8, 9, 10]\n",
        "numbers.append(\"eleven\")\n",
        "print(numbers)"
      ],
      "metadata": {
        "colab": {
          "base_uri": "https://localhost:8080/"
        },
        "id": "WiokIpMl4KMF",
        "outputId": "85cec674-09c1-46a0-ecaf-dc50decf9018"
      },
      "execution_count": 3,
      "outputs": [
        {
          "output_type": "stream",
          "name": "stdout",
          "text": [
            "[1, 2, 3, 4, 5, 6, 7, 8, 9, 10, 'eleven']\n"
          ]
        }
      ]
    },
    {
      "cell_type": "markdown",
      "source": [
        "3.)"
      ],
      "metadata": {
        "id": "ODvCtzn_4A1l"
      }
    },
    {
      "cell_type": "code",
      "source": [
        "numbers = [1, 2, 3, 4, 5, 6, 7, 8, 9, 10]\n",
        "numbers.insert(1, \"eleven\")\n",
        "print(numbers)"
      ],
      "metadata": {
        "colab": {
          "base_uri": "https://localhost:8080/"
        },
        "id": "O193tWob4KsF",
        "outputId": "500d587e-a97c-4659-9284-2a2bc8cc0346"
      },
      "execution_count": 20,
      "outputs": [
        {
          "output_type": "stream",
          "name": "stdout",
          "text": [
            "[1, 'eleven', 2, 3, 4, 5, 6, 7, 8, 9, 10]\n"
          ]
        }
      ]
    },
    {
      "cell_type": "markdown",
      "source": [
        "4.)"
      ],
      "metadata": {
        "id": "GdIZG9Ch4Amt"
      }
    },
    {
      "cell_type": "code",
      "source": [
        "numbers = [5,4,3,2,1]\n",
        "numbers.reverse()\n",
        "print(numbers)"
      ],
      "metadata": {
        "colab": {
          "base_uri": "https://localhost:8080/"
        },
        "id": "0Ss7RaPp4LQ1",
        "outputId": "a9770174-4984-4f9c-f3a1-9c03d4a431fc"
      },
      "execution_count": 23,
      "outputs": [
        {
          "output_type": "stream",
          "name": "stdout",
          "text": [
            "[1, 2, 3, 4, 5]\n"
          ]
        }
      ]
    },
    {
      "cell_type": "markdown",
      "source": [
        "5.)"
      ],
      "metadata": {
        "id": "xuUVbmJV4ABn"
      }
    },
    {
      "cell_type": "code",
      "source": [
        "numbers = [5,4,3,2,1]\n",
        "x = len(numbers)\n",
        "print(x)"
      ],
      "metadata": {
        "colab": {
          "base_uri": "https://localhost:8080/"
        },
        "id": "Smn1laAW4Lz1",
        "outputId": "3adf1af7-f677-4bfe-8e84-50d8f26e2b2b"
      },
      "execution_count": 18,
      "outputs": [
        {
          "output_type": "stream",
          "name": "stdout",
          "text": [
            "5\n"
          ]
        }
      ]
    }
  ]
}