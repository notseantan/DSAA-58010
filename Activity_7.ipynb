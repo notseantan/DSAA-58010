{
  "nbformat": 4,
  "nbformat_minor": 0,
  "metadata": {
    "colab": {
      "provenance": [],
      "authorship_tag": "ABX9TyMZt+107AeoPKiJx6i6WDwh",
      "include_colab_link": true
    },
    "kernelspec": {
      "name": "python3",
      "display_name": "Python 3"
    },
    "language_info": {
      "name": "python"
    }
  },
  "cells": [
    {
      "cell_type": "markdown",
      "metadata": {
        "id": "view-in-github",
        "colab_type": "text"
      },
      "source": [
        "<a href=\"https://colab.research.google.com/github/notseantan/DSAA-58010/blob/main/Activity_7.ipynb\" target=\"_parent\"><img src=\"https://colab.research.google.com/assets/colab-badge.svg\" alt=\"Open In Colab\"/></a>"
      ]
    },
    {
      "cell_type": "markdown",
      "source": [
        "Display Graph Edges"
      ],
      "metadata": {
        "id": "umGdj0qcpBqU"
      }
    },
    {
      "cell_type": "code",
      "source": [
        "#Display Graph Edges\n",
        "\n",
        "class graph:\n",
        "  def __init__(self,gdict=None):\n",
        "   if gdict is None:\n",
        "    gdict = {}\n",
        "   self.gdict = gdict\n",
        "\n",
        "  def edges(self):\n",
        "   return self.findedges()\n",
        "# Find the distinct list of edges\n",
        "  def findedges(self):\n",
        "    edgename = []\n",
        "    for vrtx in self.gdict:\n",
        "      for nxtvrtx in self.gdict[vrtx]:\n",
        "        if {nxtvrtx, vrtx} not in edgename:\n",
        "         edgename.append({vrtx, nxtvrtx})\n",
        "    return edgename\n",
        "# Create the dictionary with graph elements\n",
        "graph_elements = {\n",
        "      \"q\" : [\"s\",\"t\",\"w\"],\n",
        "      \"r\" : [\"u\", \"y\"],\n",
        "      \"s\" : [\"v\"],\n",
        "      \"t\" : [\"y\"],\n",
        "      \"u\" : [\"y\"],\n",
        "      \"v\" : [\"w\"],\n",
        "      \"w\" : [\"s\"],\n",
        "      \"x\" : [\"z\"],\n",
        "      \"y\" : [\"q\"],\n",
        "      \"z\" : [\"x\"]\n",
        "      }\n",
        "g = graph(graph_elements)\n",
        "print(g.edges())"
      ],
      "metadata": {
        "colab": {
          "base_uri": "https://localhost:8080/"
        },
        "id": "w1NmtLS4oC4s",
        "outputId": "840716c7-91f0-446f-cf3d-5d54b855006a"
      },
      "execution_count": 44,
      "outputs": [
        {
          "output_type": "stream",
          "name": "stdout",
          "text": [
            "[{'q', 's'}, {'q', 't'}, {'q', 'w'}, {'u', 'r'}, {'y', 'r'}, {'v', 's'}, {'y', 't'}, {'y', 'u'}, {'v', 'w'}, {'w', 's'}, {'z', 'x'}, {'y', 'q'}]\n"
          ]
        }
      ]
    },
    {
      "cell_type": "markdown",
      "source": [
        "Display Graph Vertices"
      ],
      "metadata": {
        "id": "ivn0bMoTpEuT"
      }
    },
    {
      "cell_type": "code",
      "source": [
        "#Display Graph Vertices\n",
        "class graph:\n",
        "  def __init__(self,gdict=None):\n",
        "    if gdict is None:\n",
        "      gdict = []\n",
        "      self.gdict = gdict\n",
        "# Get the keys of the dictionary\n",
        "      def getVertices(self):\n",
        "        return list(self.gdict.keys())\n",
        "# Create the dictionary with graph elements\n",
        "        graph_elements = {\n",
        "            \"q\" : [\"b\",\"c\"],\n",
        "            \"r\" : [\"a\", \"d\"],\n",
        "            \"s\" : [\"a\", \"d\"],\n",
        "            \"t\" : [\"e\"],\n",
        "            \"u\" : [\"d\"],\n",
        "            \"v\" : [\"w\"],\n",
        "            \"w\" : [\"w\"],\n",
        "            \"x\" : [\"w\"],\n",
        "            \"y\" : [\"w\"],\n",
        "            \"z\" : [\"w\"]\n",
        "            }\n",
        "    g = graph(graph_elements)\n",
        "    print(g.getVertices())"
      ],
      "metadata": {
        "id": "KnSn9H_CpQgD"
      },
      "execution_count": 37,
      "outputs": []
    }
  ]
}