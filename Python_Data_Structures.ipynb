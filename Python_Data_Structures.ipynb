{
  "nbformat": 4,
  "nbformat_minor": 0,
  "metadata": {
    "colab": {
      "provenance": [],
      "authorship_tag": "ABX9TyOYCZKRM/reLzYcWGy+VGaT",
      "include_colab_link": true
    },
    "kernelspec": {
      "name": "python3",
      "display_name": "Python 3"
    },
    "language_info": {
      "name": "python"
    }
  },
  "cells": [
    {
      "cell_type": "markdown",
      "metadata": {
        "id": "view-in-github",
        "colab_type": "text"
      },
      "source": [
        "<a href=\"https://colab.research.google.com/github/notseantan/DSAA-58010/blob/main/Python_Data_Structures.ipynb\" target=\"_parent\"><img src=\"https://colab.research.google.com/assets/colab-badge.svg\" alt=\"Open In Colab\"/></a>"
      ]
    },
    {
      "cell_type": "markdown",
      "source": [
        "Example 1"
      ],
      "metadata": {
        "id": "NNyqJWgyT3LY"
      }
    },
    {
      "cell_type": "code",
      "execution_count": null,
      "metadata": {
        "colab": {
          "base_uri": "https://localhost:8080/",
          "height": 35
        },
        "id": "l9JxAiW6SO5U",
        "outputId": "4efeaffd-b09b-46a5-e636-57591bbdc9bc"
      },
      "outputs": [
        {
          "output_type": "execute_result",
          "data": {
            "text/plain": [
              "'f'"
            ],
            "application/vnd.google.colaboratory.intrinsic+json": {
              "type": "string"
            }
          },
          "metadata": {},
          "execution_count": 4
        }
      ],
      "source": [
        "import array\n",
        "array.typecodes\n",
        "a = array.array('i', [1,2,3,4,5,6])\n",
        "b = array.array('f', [1.5,2.5,3.5,4.5,5.5,6.5])\n",
        "a.typecode\n",
        "b.typecode"
      ]
    },
    {
      "cell_type": "markdown",
      "source": [
        "Example 2"
      ],
      "metadata": {
        "id": "YOp8RWYbT45H"
      }
    },
    {
      "cell_type": "code",
      "source": [
        "import array\n",
        "a = array.array('f',[1,2,3,4,5,6])\n",
        "print(a)"
      ],
      "metadata": {
        "colab": {
          "base_uri": "https://localhost:8080/"
        },
        "id": "lnH-GCepT12C",
        "outputId": "6e2a45d4-7005-469f-b61a-e02db36920f5"
      },
      "execution_count": null,
      "outputs": [
        {
          "output_type": "stream",
          "name": "stdout",
          "text": [
            "array('f', [1.0, 2.0, 3.0, 4.0, 5.0, 6.0])\n"
          ]
        }
      ]
    },
    {
      "cell_type": "code",
      "source": [
        "from array import array\n",
        "a = array('i',[4,5,6,7])\n",
        "a.insert(1,2)\n",
        "a"
      ],
      "metadata": {
        "colab": {
          "base_uri": "https://localhost:8080/"
        },
        "id": "d8jyDRVRUIqa",
        "outputId": "99a7f39e-83d0-4c88-c18b-396d42a9ea06"
      },
      "execution_count": null,
      "outputs": [
        {
          "output_type": "execute_result",
          "data": {
            "text/plain": [
              "array('i', [4, 2, 5, 6, 7])"
            ]
          },
          "metadata": {},
          "execution_count": 9
        }
      ]
    },
    {
      "cell_type": "markdown",
      "source": [
        "Example 3"
      ],
      "metadata": {
        "id": "pCvseO4aUtMA"
      }
    },
    {
      "cell_type": "code",
      "source": [
        "class Node:\n",
        " def __init__(self, data):\n",
        "   self.data = data\n",
        "   self.next = None\n",
        "\n",
        "class LinkedList:\n",
        " def __init__(self):\n",
        "  self.head = None\n",
        "\n",
        "if __name__=='__main__':\n",
        " list = LinkedList()\n",
        "\n",
        " list.head = Node(1)\n",
        " second = Node(2)\n",
        " third = Node(3)"
      ],
      "metadata": {
        "id": "OtK5ECRtZWGw"
      },
      "execution_count": 32,
      "outputs": []
    },
    {
      "cell_type": "code",
      "source": [
        "class Node:\n",
        " def __init__(self, data):\n",
        "   self.data = data\n",
        "   self.next = None\n",
        "\n",
        "class LinkedList:\n",
        " def __init__(self):\n",
        "  self.head = None\n",
        "\n",
        "if __name__=='__main__':\n",
        " list = LinkedList()\n",
        "\n",
        " list.head = Node(1)\n",
        " second = Node(2)\n",
        " third = Node(3)\n",
        "\n",
        " list.head.next = second;\n",
        " second.next = third"
      ],
      "metadata": {
        "id": "rvc2JUEeUs4o"
      },
      "execution_count": 31,
      "outputs": []
    }
  ]
}