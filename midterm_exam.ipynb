{
  "nbformat": 4,
  "nbformat_minor": 0,
  "metadata": {
    "colab": {
      "provenance": [],
      "authorship_tag": "ABX9TyOLTmiABlboAoHT7H3ylCgQ",
      "include_colab_link": true
    },
    "kernelspec": {
      "name": "python3",
      "display_name": "Python 3"
    },
    "language_info": {
      "name": "python"
    }
  },
  "cells": [
    {
      "cell_type": "markdown",
      "metadata": {
        "id": "view-in-github",
        "colab_type": "text"
      },
      "source": [
        "<a href=\"https://colab.research.google.com/github/notseantan/DSAA-58010/blob/main/midterm_exam.ipynb\" target=\"_parent\"><img src=\"https://colab.research.google.com/assets/colab-badge.svg\" alt=\"Open In Colab\"/></a>"
      ]
    },
    {
      "cell_type": "code",
      "source": [
        "class graph:\n",
        "  def __init__(self,gdict=None):\n",
        "   if gdict is None:\n",
        "    gdict = {}\n",
        "   self.gdict = gdict\n",
        "\n",
        "  def edges(self):\n",
        "   return self.findedges()\n",
        "  def findedges(self):\n",
        "    edgename = []\n",
        "    for vrtx in self.gdict:\n",
        "      for nxtvrtx in self.gdict[vrtx]:\n",
        "        if {nxtvrtx, vrtx} not in edgename:\n",
        "         edgename.append({vrtx, nxtvrtx})\n",
        "    return edgename\n",
        "graph_elements = {\n",
        "     \"a\" : [\"b\"],\n",
        "     \"b\" : [\"e\", \"c\", \"f\"],\n",
        "     \"c\" : [\"d\",\"m\", \"i\"],\n",
        "     \"d\" : [\"l\",\"k\",\"d\"],\n",
        "     \"e\" : [\"m\",\"n\",\"c\"],\n",
        "     \"f\" : [\"c\", \"i\", \"b\",\"g\"],\n",
        "     \"g\" : [\"f\",\"i\",\"j\"],\n",
        "     \"i\" : [\"g\",\"f\",\"j\",\"k\"],\n",
        "     \"j\" : [\"g\",\"i\",\"k\"],\n",
        "     \"k\" : [\"d\",\"j\",\"i\"],\n",
        "     \"l\" : [\"d\", \"p\", \"m\"],\n",
        "     \"m\" : [\"n\",\"c\", \"o\",\"p\",\"l\"],\n",
        "     \"n\" : [\"m\",\"e\",\"o\"],\n",
        "     \"o\" : [\"m\",\"n\",\"p\"],\n",
        "     \"p\" : [\"m\", \"l\", \"o\"]\n",
        "      }\n",
        "g = graph(graph_elements)\n",
        "print(g.edges())"
      ],
      "metadata": {
        "colab": {
          "base_uri": "https://localhost:8080/"
        },
        "id": "w1NmtLS4oC4s",
        "outputId": "f071dc65-ea6c-4e4e-e555-d0cfc589db12"
      },
      "execution_count": 5,
      "outputs": [
        {
          "output_type": "stream",
          "name": "stdout",
          "text": [
            "[{'a', 'b'}, {'e', 'b'}, {'b', 'c'}, {'f', 'b'}, {'d', 'c'}, {'m', 'c'}, {'i', 'c'}, {'d', 'l'}, {'d', 'k'}, {'d'}, {'m', 'e'}, {'e', 'n'}, {'e', 'c'}, {'f', 'c'}, {'f', 'i'}, {'g', 'f'}, {'g', 'i'}, {'g', 'j'}, {'j', 'i'}, {'k', 'i'}, {'j', 'k'}, {'l', 'p'}, {'m', 'l'}, {'m', 'n'}, {'o', 'm'}, {'m', 'p'}, {'o', 'n'}, {'o', 'p'}]\n"
          ]
        }
      ]
    },
    {
      "cell_type": "code",
      "source": [
        "class graph:\n",
        "  def __init__(self,gdict=None):\n",
        "    if gdict is None:\n",
        "      gdict = []\n",
        "      self.gdict = gdict\n",
        "      def getVertices(self):\n",
        "        return list(self.gdict.keys())\n",
        "        graph_elements = {\n",
        "     \"a\" : [\"b\"],\n",
        "     \"b\" : [\"e\", \"c\", \"f\"],\n",
        "     \"c\" : [\"d\",\"m\", \"i\"],\n",
        "     \"d\" : [\"l\",\"k\",\"d\"],\n",
        "     \"e\" : [\"m\",\"n\",\"c\"],\n",
        "     \"f\" : [\"c\", \"i\", \"b\",\"g\"],\n",
        "     \"g\" : [\"f\",\"i\",\"j\"],\n",
        "     \"i\" : [\"g\",\"f\",\"j\",\"k\"],\n",
        "     \"j\" : [\"g\",\"i\",\"k\"],\n",
        "     \"k\" : [\"d\",\"j\",\"i\"],\n",
        "     \"l\" : [\"d\", \"p\", \"m\"],\n",
        "     \"m\" : [\"n\",\"c\", \"o\",\"p\",\"l\"],\n",
        "     \"n\" : [\"m\",\"e\",\"o\"],\n",
        "     \"o\" : [\"m\",\"n\",\"p\"],\n",
        "     \"p\" : [\"m\", \"l\", \"o\"]\n",
        "            }\n",
        "    g = graph(graph_elements)\n",
        "    print(g.Vertices())"
      ],
      "metadata": {
        "id": "pmTvgmyUXtgW"
      },
      "execution_count": 6,
      "outputs": []
    }
  ]
}