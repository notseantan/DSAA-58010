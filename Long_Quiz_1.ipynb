{
  "nbformat": 4,
  "nbformat_minor": 0,
  "metadata": {
    "colab": {
      "provenance": [],
      "authorship_tag": "ABX9TyP9J74Iel0aURw6HRUCgvLe",
      "include_colab_link": true
    },
    "kernelspec": {
      "name": "python3",
      "display_name": "Python 3"
    },
    "language_info": {
      "name": "python"
    }
  },
  "cells": [
    {
      "cell_type": "markdown",
      "metadata": {
        "id": "view-in-github",
        "colab_type": "text"
      },
      "source": [
        "<a href=\"https://colab.research.google.com/github/notseantan/DSAA-58010/blob/main/Long_Quiz_1.ipynb\" target=\"_parent\"><img src=\"https://colab.research.google.com/assets/colab-badge.svg\" alt=\"Open In Colab\"/></a>"
      ]
    },
    {
      "cell_type": "markdown",
      "source": [
        "1.)"
      ],
      "metadata": {
        "id": "m5chLde3KgqR"
      }
    },
    {
      "cell_type": "code",
      "execution_count": null,
      "metadata": {
        "colab": {
          "base_uri": "https://localhost:8080/"
        },
        "id": "1rTpJSS5KT_j",
        "outputId": "82c865d4-bf26-4c59-fee8-5a43bd8f1866"
      },
      "outputs": [
        {
          "output_type": "stream",
          "name": "stdout",
          "text": [
            "['S', 'e', 'a', 'n', ' ', 'W', 'i', 'l', 'l', 'i', 'a', 'm', ' ', 'P', 'e', 's', 'i', 'g', 'a', 'n', ' ', 'T', 'a', 'n']\n",
            "['n', 'a', 'T', ' ', 'n', 'a', 'g', 'i', 's', 'e', 'P', ' ', 'm', 'a', 'i', 'l', 'l', 'i', 'W', ' ', 'n', 'a', 'e', 'S']\n"
          ]
        }
      ],
      "source": [
        "def reverselist (FullName, start,end):\n",
        "  while start < end:\n",
        "    FullName[start], FullName[end] = FullName[end], FullName[start]\n",
        "    start += 1\n",
        "    end -= 1\n",
        "FullName = []\n",
        "FullName.append(\"S\")\n",
        "FullName.append(\"e\")\n",
        "FullName.append(\"a\")\n",
        "FullName.append(\"n\")\n",
        "FullName.append(\" \")\n",
        "FullName.append(\"W\")\n",
        "FullName.append(\"i\")\n",
        "FullName.append(\"l\")\n",
        "FullName.append(\"l\")\n",
        "FullName.append(\"i\")\n",
        "FullName.append(\"a\")\n",
        "FullName.append(\"m\")\n",
        "FullName.append(\" \")\n",
        "FullName.append(\"P\")\n",
        "FullName.append(\"e\")\n",
        "FullName.append(\"s\")\n",
        "FullName.append(\"i\")\n",
        "FullName.append(\"g\")\n",
        "FullName.append(\"a\")\n",
        "FullName.append(\"n\")\n",
        "FullName.append(\" \")\n",
        "FullName.append(\"T\")\n",
        "FullName.append(\"a\")\n",
        "FullName.append(\"n\")\n",
        "print(FullName)\n",
        "reverselist (FullName,0,23)\n",
        "print(FullName)"
      ]
    },
    {
      "cell_type": "markdown",
      "source": [
        "2.)"
      ],
      "metadata": {
        "id": "qYy1i3DrKjvv"
      }
    },
    {
      "cell_type": "code",
      "source": [
        "for num in range(2,num+1):\n",
        "    prime = True\n",
        "    for i in range(2,num):\n",
        "        if (num%i==0):\n",
        "            prime = False\n",
        "    if prime:\n",
        "       print (\"Prime Numbers:\",num)\n"
      ],
      "metadata": {
        "colab": {
          "base_uri": "https://localhost:8080/"
        },
        "id": "AxZgyeL6Klgf",
        "outputId": "1099a42d-a9c0-419f-ebeb-bec34cc177ed"
      },
      "execution_count": null,
      "outputs": [
        {
          "output_type": "stream",
          "name": "stdout",
          "text": [
            "Prime Numbers: 2\n",
            "Prime Numbers: 3\n",
            "Prime Numbers: 5\n",
            "Prime Numbers: 7\n"
          ]
        }
      ]
    }
  ]
}