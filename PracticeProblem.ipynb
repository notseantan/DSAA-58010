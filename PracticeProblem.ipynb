{
  "nbformat": 4,
  "nbformat_minor": 0,
  "metadata": {
    "colab": {
      "provenance": [],
      "authorship_tag": "ABX9TyPwTeVJh8cOav8jmbMZmekr",
      "include_colab_link": true
    },
    "kernelspec": {
      "name": "python3",
      "display_name": "Python 3"
    },
    "language_info": {
      "name": "python"
    }
  },
  "cells": [
    {
      "cell_type": "markdown",
      "metadata": {
        "id": "view-in-github",
        "colab_type": "text"
      },
      "source": [
        "<a href=\"https://colab.research.google.com/github/notseantan/DSAA-58010/blob/main/PracticeProblem.ipynb\" target=\"_parent\"><img src=\"https://colab.research.google.com/assets/colab-badge.svg\" alt=\"Open In Colab\"/></a>"
      ]
    },
    {
      "cell_type": "code",
      "execution_count": 9,
      "metadata": {
        "colab": {
          "base_uri": "https://localhost:8080/"
        },
        "id": "7LlZJcUI6HFW",
        "outputId": "8b0402de-bdf9-4567-f79d-c1c607eda03b"
      },
      "outputs": [
        {
          "output_type": "stream",
          "name": "stdout",
          "text": [
            "Enter the first test score:\n",
            "26\n",
            "Enter the second test score:\n",
            "49\n",
            "Enter the third test score:\n",
            "98\n",
            "Enter the fourth test score:\n",
            "87\n",
            "Enter the fifth test score:\n",
            "62\n",
            "Enter the sixth test score:\n",
            "75\n",
            "The sum of the test scores is 397\n"
          ]
        }
      ],
      "source": [
        "num1 = int(input(\"Enter the first test score:\\n\"))\n",
        "num2 = int(input(\"Enter the second test score:\\n\"))\n",
        "num3 = int(input(\"Enter the third test score:\\n\"))\n",
        "num4 = int(input(\"Enter the fourth test score:\\n\"))\n",
        "num5 = int(input(\"Enter the fifth test score:\\n\"))\n",
        "num6 = int(input(\"Enter the sixth test score:\\n\"))\n",
        "sum = num1 + num2 + num3 + num4 + num5  + num6\n",
        "print('The sum of the test scores is {0}'.format(sum))"
      ]
    }
  ]
}